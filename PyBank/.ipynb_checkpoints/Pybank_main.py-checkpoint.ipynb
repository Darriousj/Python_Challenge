{
 "cells": [
  {
   "cell_type": "code",
   "execution_count": 4,
   "metadata": {},
   "outputs": [],
   "source": [
    "import os\n",
    "import csv"
   ]
  },
  {
   "cell_type": "code",
   "execution_count": 7,
   "metadata": {},
   "outputs": [],
   "source": [
    "csvpath=os.path.join('Resources','budget_data.csv')"
   ]
  },
  {
   "cell_type": "code",
   "execution_count": 23,
   "metadata": {},
   "outputs": [
    {
     "name": "stdout",
     "output_type": "stream",
     "text": [
      "Financial Analysis\n",
      "-----------------------\n",
      "Total Months:86\n",
      "Total:$38382578\n",
      "Average Change:$-2315.12\n",
      "Greatest Increase in Profit: Feb-2012 ($1926159)\n",
      "Greatest Increase in Profit: Sep-2013 ($-2196167)\n"
     ]
    }
   ],
   "source": [
    "with open (csvpath) as buddata:\n",
    "    csvreader=csv.reader(buddata,delimiter=',')\n",
    "    csv_header = next(csvreader)    \n",
    "    #variables used to caluclate results in loop\n",
    "    month=0\n",
    "    total=0\n",
    "    change=0\n",
    "    last_month=0\n",
    "    total_change=0\n",
    "    average_change=0\n",
    "    increase_profit=int(row[1])\n",
    "    month_increaseprofit=str(row[0])\n",
    "    decrease_profit= int(row[1])\n",
    "    month_decreaseprofit=str(row[0])\n",
    "    \n",
    "    \n",
    "    for row in csvreader:\n",
    "        #Adds the month for each row (+1 allows the program to skip to next row)\n",
    "        month=month+1\n",
    "        #Adds the Profit/Lose coulmn from each row\n",
    "        total=total+int(row[1])     \n",
    "       \n",
    "        if last_month!=0:     \n",
    "        #Subtracts the previous month profit/lose from current month profit/lose in the row to get change \n",
    "            change=int(row[1])-last_month\n",
    "        monthly_change_list.append(change)\n",
    "        #Adds all the changes to make total_change\n",
    "        total_change=change+total_change\n",
    "        #Stops at the last month in the data \n",
    "        last_month=int(row[1])\n",
    "        \n",
    "        if change>increase_profit:\n",
    "            increase_profit=change\n",
    "            #Calls column of the row and sets to month increase_profit\n",
    "            month_increaseprofit=str(row[0])\n",
    "        if change<decrease_profit:\n",
    "            decrease_profit=change\n",
    "            month_decreaseprofit=str(row[0])                 \n",
    "          \n",
    "    # Calcualtions from aggregation that happens within loop            \n",
    "    average_change=(total_change/(month-1))\n",
    "    # Rounds decimal places\n",
    "    average_change=round(average_change,2)\n",
    "\n",
    "    print(f\"Financial Analysis\")\n",
    "    print(f\"-----------------------\")               \n",
    "    print(f\"Total Months:{month}\")\n",
    "    print(f\"Total:${total}\")\n",
    "    print(f\"Average Change:${average_change}\")\n",
    "    print(f\"Greatest Increase in Profit: {month_increaseprofit} (${increase_profit})\")\n",
    "    print(f\"Greatest Increase in Profit: {month_decreaseprofit} (${decrease_profit})\")\n",
    "    \n",
    "   \n",
    "        "
   ]
  },
  {
   "cell_type": "code",
   "execution_count": 26,
   "metadata": {},
   "outputs": [],
   "source": [
    "output_path=os.path.join('Analysis','analysisbank.txt') \n",
    "with open (output_path,'w') as csvfile:\n",
    "    print(f\"Financial Analysis\",file=csvfile)\n",
    "    print(f\"-----------------------\",file=csvfile)               \n",
    "    print(f\"Total Months:{month}\",file=csvfile)\n",
    "    print(f\"Total:${total}\",file=csvfile)\n",
    "    print(f\"Average Change:${average_change}\",file=csvfile)\n",
    "    print(f\"Greatest Increase in Profit: {month_increaseprofit} (${increase_profit})\",file=csvfile)\n",
    "    print(f\"Greatest Increase in Profit: {month_decreaseprofit} (${decrease_profit})\",file=csvfile)\n"
   ]
  },
  {
   "cell_type": "code",
   "execution_count": null,
   "metadata": {},
   "outputs": [],
   "source": []
  }
 ],
 "metadata": {
  "kernelspec": {
   "display_name": "Python 3",
   "language": "python",
   "name": "python3"
  },
  "language_info": {
   "codemirror_mode": {
    "name": "ipython",
    "version": 3
   },
   "file_extension": ".py",
   "mimetype": "text/x-python",
   "name": "python",
   "nbconvert_exporter": "python",
   "pygments_lexer": "ipython3",
   "version": "3.8.5"
  }
 },
 "nbformat": 4,
 "nbformat_minor": 4
}

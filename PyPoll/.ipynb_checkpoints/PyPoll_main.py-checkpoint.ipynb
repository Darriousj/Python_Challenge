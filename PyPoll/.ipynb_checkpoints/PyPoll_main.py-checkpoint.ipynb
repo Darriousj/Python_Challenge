{
 "cells": [
  {
   "cell_type": "code",
   "execution_count": 1,
   "metadata": {},
   "outputs": [],
   "source": [
    "import os\n",
    "import csv"
   ]
  },
  {
   "cell_type": "code",
   "execution_count": 2,
   "metadata": {},
   "outputs": [],
   "source": [
    "csvpath=os.path.join('Resources','election_data.csv')"
   ]
  },
  {
   "cell_type": "code",
   "execution_count": 85,
   "metadata": {
    "scrolled": true
   },
   "outputs": [
    {
     "name": "stdout",
     "output_type": "stream",
     "text": [
      "Election Results\n",
      "______________________\n",
      "Total Votes: 3521001\n",
      "______________________\n",
      "Khan: 63.0% (2218231)\n",
      "Correy: 20.0% (704200)\n",
      "Li: 14.0% (492940)\n",
      "O'Tooley: 3.0% (105630)\n",
      "______________________\n",
      "Winner: Khan\n"
     ]
    }
   ],
   "source": [
    "with open (csvpath) as elecdata:\n",
    "    csvreader=csv.reader(elecdata,delimiter=',')\n",
    "    csv_header = next(csvreader) \n",
    "    # variables used to calculate in loop \n",
    "    total_votes=0\n",
    "    can_vote={}\n",
    "    win_percent=0        \n",
    "    #for loop to calculate total votes\n",
    "    for row in csvreader:\n",
    "        total_votes=total_votes+1\n",
    "        #if statement to extract unique names from candidate column (dict-key)\n",
    "        if row[2] not in can_vote:\n",
    "                can_vote[(row[2])]= 1\n",
    "        #counts votes after setting the unique name to 1 (dict-value)       \n",
    "        else:\n",
    "            can_vote[(row[2])]=can_vote[(row[2])]+1 \n",
    "   \n",
    "    \n",
    "    print(f\"Election Results\")\n",
    "    print(f\"______________________\")\n",
    "    print(f\"Total Votes: {total_votes}\")\n",
    "    print(f\"______________________\")\n",
    "    #for loop that calculates the greatest number of votes among the names & sets the value to the key {win_name}\n",
    "    for item in can_vote:\n",
    "        if can_vote[item]> win_percent:\n",
    "            win_percent= can_vote[item]\n",
    "            win_name= item\n",
    "         #win percentage calculation   \n",
    "        print(f\"{item}: {round(can_vote[item]/total_votes*100,2)}% ({can_vote[item]})\")\n",
    "    print(f\"______________________\")\n",
    "    print(f\"Winner: {win_name}\")\n"
   ]
  },
  {
   "cell_type": "code",
   "execution_count": 86,
   "metadata": {},
   "outputs": [],
   "source": [
    "output_path=os.path.join('Analysis','analysis.txt')\n",
    "\n",
    "with open (output_path,'w') as csvfile:\n",
    "    print(f\"Election Results\",file=csvfile)\n",
    "    print(f\"______________________\",file=csvfile)\n",
    "    print(f\"Total Votes: {total_votes}\",file=csvfile)\n",
    "    print(f\"______________________\",file=csvfile)\n",
    "    for item in can_vote:\n",
    "        if can_vote[item]> win_percent:\n",
    "            win_percent= can_vote[item]\n",
    "            win_name= item\n",
    "        print(f\"{item}: {round(can_vote[item]/total_votes*100,2)}% ({can_vote[item]})\",file=csvfile)\n",
    "    print(f\"______________________\",file=csvfile)\n",
    "    print(f\"Winner: {win_name}\",file=csvfile)"
   ]
  },
  {
   "cell_type": "code",
   "execution_count": 87,
   "metadata": {},
   "outputs": [],
   "source": [
    "output_path=os.path.join('Analysis','analysis_option2.txt')\n",
    "\n",
    "with open (output_path,'w') as csvfile:\n",
    "    csvfile.write(f\"Election Results\\n\")\n",
    "    csvfile.write(f\"______________________\\n\")\n",
    "    csvfile.write(f\"Total Votes: {total_votes}\\n\")\n",
    "    csvfile.write(f\"______________________\\n\")\n",
    "    for item in can_vote:\n",
    "        if can_vote[item]> win_percent:\n",
    "            win_percent= can_vote[item]\n",
    "            win_name= item\n",
    "        csvfile.write(f\"{item}: {round(can_vote[item]/total_votes*100,2)}% ({can_vote[item]})\\n\")\n",
    "    csvfile.write(f\"______________________\\n\")\n",
    "    csvfile.write(f\"Winner: {win_name}\\n\")"
   ]
  },
  {
   "cell_type": "code",
   "execution_count": null,
   "metadata": {},
   "outputs": [],
   "source": [
    "\n"
   ]
  },
  {
   "cell_type": "code",
   "execution_count": null,
   "metadata": {},
   "outputs": [],
   "source": []
  }
 ],
 "metadata": {
  "kernelspec": {
   "display_name": "Python 3",
   "language": "python",
   "name": "python3"
  },
  "language_info": {
   "codemirror_mode": {
    "name": "ipython",
    "version": 3
   },
   "file_extension": ".py",
   "mimetype": "text/x-python",
   "name": "python",
   "nbconvert_exporter": "python",
   "pygments_lexer": "ipython3",
   "version": "3.8.5"
  }
 },
 "nbformat": 4,
 "nbformat_minor": 4
}
